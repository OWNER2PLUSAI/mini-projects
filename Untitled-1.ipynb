{
 "cells": [
  {
   "cell_type": "code",
   "execution_count": 4,
   "metadata": {},
   "outputs": [],
   "source": [
    "import numpy as np \n",
    "import pandas as pd \n",
    "import json\n",
    "import requests\n",
    "import base64\n",
    "import babel.numbers"
   ]
  },
  {
   "cell_type": "code",
   "execution_count": 11,
   "metadata": {},
   "outputs": [
    {
     "name": "stdout",
     "output_type": "stream",
     "text": [
      "{\"timestamp\":\"2022-10-17T14:39:21.917+0000\",\"status\":405,\"error\":\"Method Not Allowed\",\"message\":\"Request method 'GET' not supported\",\"path\":\"/api/sdk/accounts/web\"}\n"
     ]
    }
   ],
   "source": [
    "s\n",
    "\n",
    "\n",
    "\n",
    "\n",
    "\n"
   ]
  },
  {
   "cell_type": "code",
   "execution_count": null,
   "metadata": {},
   "outputs": [],
   "source": [
    "token = \"\"\n",
    "chatid = \"\"\n",
    "\n",
    "m = f\" offer from digikala1  : {df}\"\n",
    "\n",
    "send = \"https://api.telegram.org/bot\" + token + \"/\" + chatid\n",
    "responce = requests.get(send)\n",
    "print(responce.json())"
   ]
  }
 ],
 "metadata": {
  "kernelspec": {
   "display_name": "Python 3.10.1 64-bit",
   "language": "python",
   "name": "python3"
  },
  "language_info": {
   "codemirror_mode": {
    "name": "ipython",
    "version": 3
   },
   "file_extension": ".py",
   "mimetype": "text/x-python",
   "name": "python",
   "nbconvert_exporter": "python",
   "pygments_lexer": "ipython3",
   "version": "3.10.1"
  },
  "orig_nbformat": 4,
  "vscode": {
   "interpreter": {
    "hash": "fccf4af24601f63d4dc7e4cfea909002a0a964b6ef1e66db731d4adba361d32c"
   }
  }
 },
 "nbformat": 4,
 "nbformat_minor": 2
}
